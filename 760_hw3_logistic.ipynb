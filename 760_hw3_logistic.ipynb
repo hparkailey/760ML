{
  "nbformat": 4,
  "nbformat_minor": 0,
  "metadata": {
    "colab": {
      "provenance": [],
      "authorship_tag": "ABX9TyN1Cb6TLL5KEEsVZnBZsw26",
      "include_colab_link": true
    },
    "kernelspec": {
      "name": "python3",
      "display_name": "Python 3"
    },
    "language_info": {
      "name": "python"
    }
  },
  "cells": [
    {
      "cell_type": "markdown",
      "metadata": {
        "id": "view-in-github",
        "colab_type": "text"
      },
      "source": [
        "<a href=\"https://colab.research.google.com/github/hparkailey/760ML/blob/main/760_hw3_logistic.ipynb\" target=\"_parent\"><img src=\"https://colab.research.google.com/assets/colab-badge.svg\" alt=\"Open In Colab\"/></a>"
      ]
    },
    {
      "cell_type": "code",
      "source": [
        "import pandas as pd\n",
        "import numpy as np\n",
        "\n",
        "emails = pd.read_csv(\"emails.csv\")\n",
        "cv_k = 5\n",
        "fold1 = emails[:1000]\n",
        "fold2 = emails[1000:2000]\n",
        "fold3 = emails[2000:3000]\n",
        "fold4 = emails[3000:4000]\n",
        "fold5 = emails[4000:5000]\n",
        "folds = [fold1, fold2, fold3, fold4, fold5]\n",
        "\n",
        "test_preds = []\n",
        "for i in range(5):\n",
        "  em_test_i = folds[i]\n",
        "  em_test_i_x = em_test_i.iloc[:,1:-1]\n",
        "  em_test_i_y = em_test_i.iloc[:,-1]\n",
        "\n",
        "  train_i_list = []\n",
        "  for j in range(5):\n",
        "    if j != i:\n",
        "      train_i_list.append(folds[j])\n",
        "  em_train_i_df = pd.concat(train_i_list, axis=0) #.reset_index(drop=True)\n",
        "  em_train_i_x = em_train_i_df.iloc[:,1:-1]\n",
        "  em_train_i_y = em_train_i_df.iloc[:,-1]"
      ],
      "metadata": {
        "id": "bCWMC99EaEc_"
      },
      "execution_count": 2,
      "outputs": []
    },
    {
      "cell_type": "code",
      "source": [
        "train_x.shape"
      ],
      "metadata": {
        "colab": {
          "base_uri": "https://localhost:8080/"
        },
        "id": "2LA1wvAjbOaK",
        "outputId": "ceeb8f2c-05f3-4e32-c11d-611fbdbf2c63"
      },
      "execution_count": 14,
      "outputs": [
        {
          "output_type": "execute_result",
          "data": {
            "text/plain": [
              "(4000, 3000)"
            ]
          },
          "metadata": {},
          "execution_count": 14
        }
      ]
    },
    {
      "cell_type": "code",
      "source": [],
      "metadata": {
        "id": "a8N6kFuQuhh6"
      },
      "execution_count": null,
      "outputs": []
    },
    {
      "cell_type": "code",
      "source": [
        "losses = []\n",
        "train_x = em_train_i_x # 4000 x 3000\n",
        "true_y = em_train_i_y #4000\n",
        "\n",
        "#train_x = np.column_stack((np.ones(len(train_x)), train_x)) # 4000 x 3001\n",
        "def compute_loss(pred, true_y):\n",
        "  zero_loss = true_y*np.log(pred + 1e-9)\n",
        "  one_loss = (1-true_y)*np.log(1-pred + 1e-9)\n",
        "  return -np.mean(zero_loss + one_loss)\n",
        "\n",
        "def train_lr(train_x, true_y, lr, epochs):\n",
        "  train_x = np.column_stack((np.ones(len(train_x)), train_x)) #add bias term 1\n",
        "  w = np.random.randn(train_x.shape[1]) #3001 x 1\n",
        "  #w.shape\n",
        "  for i in range(epochs):\n",
        "    pred = _sigmoid(np.matmul(train_x, w)) #4000 x 1 ##pred == y_prob in kaggle\n",
        "    #gradient = (pred-em_train_i_y).values.reshape(1,4000).T*train_x # (4000 x 3001)\n",
        "    gradient = np.array([np.mean(grad) for grad in train_x.T*(pred-true_y).values]) # 3001 x 1\n",
        "    # gradient for each feature\n",
        "    w -= gradient*lr\n",
        "    y_hats = [1 if pred_i > 0.5 else 0 for pred_i in pred]\n",
        "    #true_class: em_trian_i_y\n",
        "    losses.append(compute_loss(pred, true_y.values.reshape(4000,1)))\n",
        "  return w\n",
        "\n",
        "\n",
        "def predict_lr(test_x, w):\n",
        "  #test_x = np.column_stack((np.ones(len(test_x)), test_x)) #add bias term 1\n",
        "  test_x_bias = np.column_stack((np.ones(len(em_test_i_x)), em_test_i_x))\n",
        "  pred = _sigmoid(np.matmul(test_x_bias,w))\n",
        "  return [1 if pred_i >0.5 else 0 for pred_i in pred]\n",
        "\n",
        "w_min_loss = train_lr(em_train_i_x, true_y, 0.01,5)\n",
        "outputs = predict_lr(em_test_i_x, w_min_loss)\n",
        "len(outputs)"
      ],
      "metadata": {
        "colab": {
          "base_uri": "https://localhost:8080/"
        },
        "id": "lXWl0TMMa0PE",
        "outputId": "da4027e0-e534-4025-d464-e27712a311f7"
      },
      "execution_count": 113,
      "outputs": [
        {
          "output_type": "stream",
          "name": "stderr",
          "text": [
            "<ipython-input-9-f35e579d3e6f>:16: RuntimeWarning: overflow encountered in exp\n",
            "  return 1/(1+np.exp(-z))\n"
          ]
        },
        {
          "output_type": "execute_result",
          "data": {
            "text/plain": [
              "1000"
            ]
          },
          "metadata": {},
          "execution_count": 113
        }
      ]
    },
    {
      "cell_type": "code",
      "source": [
        "w_min_loss.shape"
      ],
      "metadata": {
        "colab": {
          "base_uri": "https://localhost:8080/"
        },
        "id": "q7UYG_hNClS8",
        "outputId": "3c7d0cd1-1249-423e-8aa9-5ebbab19de81"
      },
      "execution_count": 108,
      "outputs": [
        {
          "output_type": "execute_result",
          "data": {
            "text/plain": [
              "(3001,)"
            ]
          },
          "metadata": {},
          "execution_count": 108
        }
      ]
    },
    {
      "cell_type": "code",
      "source": [
        "np.column_stack((np.ones(len(em_test_i_x)), em_test_i_x)).shape"
      ],
      "metadata": {
        "colab": {
          "base_uri": "https://localhost:8080/"
        },
        "id": "rtGNBW8dDCfu",
        "outputId": "a2b19e2e-4cde-4620-8b50-ffa4ceed25d9"
      },
      "execution_count": 111,
      "outputs": [
        {
          "output_type": "execute_result",
          "data": {
            "text/plain": [
              "(1000, 3001)"
            ]
          },
          "metadata": {},
          "execution_count": 111
        }
      ]
    },
    {
      "cell_type": "code",
      "source": [
        "em_test_i_x.shape"
      ],
      "metadata": {
        "colab": {
          "base_uri": "https://localhost:8080/"
        },
        "id": "quLIzRaRCmwm",
        "outputId": "cd42ad2a-5515-484d-993d-ea2dd14fda43"
      },
      "execution_count": 109,
      "outputs": [
        {
          "output_type": "execute_result",
          "data": {
            "text/plain": [
              "(1000, 3000)"
            ]
          },
          "metadata": {},
          "execution_count": 109
        }
      ]
    },
    {
      "cell_type": "code",
      "source": [
        "len(true_y)"
      ],
      "metadata": {
        "colab": {
          "base_uri": "https://localhost:8080/"
        },
        "id": "sQzFo4s_A0Rz",
        "outputId": "81a57834-392b-47f5-e305-dba078e50c47"
      },
      "execution_count": 99,
      "outputs": [
        {
          "output_type": "execute_result",
          "data": {
            "text/plain": [
              "4000"
            ]
          },
          "metadata": {},
          "execution_count": 99
        }
      ]
    },
    {
      "cell_type": "code",
      "source": [
        "print(true_y.shape)\n",
        "true_y.values.reshape(4000,1).shape\n",
        "print(true_y.values.reshape(4000,1).shape)"
      ],
      "metadata": {
        "colab": {
          "base_uri": "https://localhost:8080/"
        },
        "id": "8xeBfP0A8iYj",
        "outputId": "0575a1e8-3baf-4fc1-fc53-1e8d24fd54e5"
      },
      "execution_count": 93,
      "outputs": [
        {
          "output_type": "stream",
          "name": "stdout",
          "text": [
            "(4000,)\n",
            "(4000, 1)\n"
          ]
        }
      ]
    },
    {
      "cell_type": "code",
      "source": [
        "len(em_train_i_y)"
      ],
      "metadata": {
        "colab": {
          "base_uri": "https://localhost:8080/"
        },
        "id": "B-As8xyG0cmS",
        "outputId": "ca9c1710-9ad7-47b1-8157-9d77fefb1200"
      },
      "execution_count": 69,
      "outputs": [
        {
          "output_type": "execute_result",
          "data": {
            "text/plain": [
              "4000"
            ]
          },
          "metadata": {},
          "execution_count": 69
        }
      ]
    },
    {
      "cell_type": "code",
      "source": [
        "zero_indices = em_train_i_y.index[em_train_i_y == 0]\n",
        "one_indices = em_train_i_y.index[em_train_i_y == 1]\n",
        "gradient[zero_indices]"
      ],
      "metadata": {
        "colab": {
          "base_uri": "https://localhost:8080/",
          "height": 214
        },
        "id": "ZO1e750Dj-ny",
        "outputId": "48fcac55-4bdb-40e7-e4b8-34e4cdf0f8c5"
      },
      "execution_count": 66,
      "outputs": [
        {
          "output_type": "error",
          "ename": "IndexError",
          "evalue": "ignored",
          "traceback": [
            "\u001b[0;31m---------------------------------------------------------------------------\u001b[0m",
            "\u001b[0;31mIndexError\u001b[0m                                Traceback (most recent call last)",
            "\u001b[0;32m<ipython-input-66-010a50c9e155>\u001b[0m in \u001b[0;36m<cell line: 3>\u001b[0;34m()\u001b[0m\n\u001b[1;32m      1\u001b[0m \u001b[0mzero_indices\u001b[0m \u001b[0;34m=\u001b[0m \u001b[0mem_train_i_y\u001b[0m\u001b[0;34m.\u001b[0m\u001b[0mindex\u001b[0m\u001b[0;34m[\u001b[0m\u001b[0mem_train_i_y\u001b[0m \u001b[0;34m==\u001b[0m \u001b[0;36m0\u001b[0m\u001b[0;34m]\u001b[0m\u001b[0;34m\u001b[0m\u001b[0;34m\u001b[0m\u001b[0m\n\u001b[1;32m      2\u001b[0m \u001b[0mone_indices\u001b[0m \u001b[0;34m=\u001b[0m \u001b[0mem_train_i_y\u001b[0m\u001b[0;34m.\u001b[0m\u001b[0mindex\u001b[0m\u001b[0;34m[\u001b[0m\u001b[0mem_train_i_y\u001b[0m \u001b[0;34m==\u001b[0m \u001b[0;36m1\u001b[0m\u001b[0;34m]\u001b[0m\u001b[0;34m\u001b[0m\u001b[0;34m\u001b[0m\u001b[0m\n\u001b[0;32m----> 3\u001b[0;31m \u001b[0mgradient\u001b[0m\u001b[0;34m[\u001b[0m\u001b[0mzero_indices\u001b[0m\u001b[0;34m]\u001b[0m\u001b[0;34m\u001b[0m\u001b[0;34m\u001b[0m\u001b[0m\n\u001b[0m",
            "\u001b[0;31mIndexError\u001b[0m: index 3001 is out of bounds for axis 0 with size 3001"
          ]
        }
      ]
    },
    {
      "cell_type": "code",
      "source": [
        "(pred-em_train_i_y).values.T.shape"
      ],
      "metadata": {
        "colab": {
          "base_uri": "https://localhost:8080/"
        },
        "id": "2wSztIiad-mE",
        "outputId": "11ac02e9-a75e-4766-f808-8945a2f37ebb"
      },
      "execution_count": 40,
      "outputs": [
        {
          "output_type": "execute_result",
          "data": {
            "text/plain": [
              "(4000,)"
            ]
          },
          "metadata": {},
          "execution_count": 40
        }
      ]
    },
    {
      "cell_type": "code",
      "source": [
        "(pred-em_train_i_y).values.reshape(1,4000).shape"
      ],
      "metadata": {
        "colab": {
          "base_uri": "https://localhost:8080/"
        },
        "id": "hUOsHuDqdxG0",
        "outputId": "62956975-0e19-45df-f5a9-47f9d52558b9"
      },
      "execution_count": 43,
      "outputs": [
        {
          "output_type": "execute_result",
          "data": {
            "text/plain": [
              "(1, 4000)"
            ]
          },
          "metadata": {},
          "execution_count": 43
        }
      ]
    },
    {
      "cell_type": "code",
      "execution_count": 9,
      "metadata": {
        "colab": {
          "base_uri": "https://localhost:8080/",
          "height": 357
        },
        "id": "q90LTZ1IZure",
        "outputId": "edaa8e1a-d9e7-4882-d730-625754eeb86f"
      },
      "outputs": [
        {
          "output_type": "error",
          "ename": "ValueError",
          "evalue": "ignored",
          "traceback": [
            "\u001b[0;31m---------------------------------------------------------------------------\u001b[0m",
            "\u001b[0;31mValueError\u001b[0m                                Traceback (most recent call last)",
            "\u001b[0;32m<ipython-input-9-f35e579d3e6f>\u001b[0m in \u001b[0;36m<cell line: 18>\u001b[0;34m()\u001b[0m\n\u001b[1;32m     16\u001b[0m   \u001b[0;32mreturn\u001b[0m \u001b[0;36m1\u001b[0m\u001b[0;34m/\u001b[0m\u001b[0;34m(\u001b[0m\u001b[0;36m1\u001b[0m\u001b[0;34m+\u001b[0m\u001b[0mnp\u001b[0m\u001b[0;34m.\u001b[0m\u001b[0mexp\u001b[0m\u001b[0;34m(\u001b[0m\u001b[0;34m-\u001b[0m\u001b[0mz\u001b[0m\u001b[0;34m)\u001b[0m\u001b[0;34m)\u001b[0m\u001b[0;34m\u001b[0m\u001b[0;34m\u001b[0m\u001b[0m\n\u001b[1;32m     17\u001b[0m \u001b[0;34m\u001b[0m\u001b[0m\n\u001b[0;32m---> 18\u001b[0;31m \u001b[0mtrain_log_reg\u001b[0m\u001b[0;34m(\u001b[0m\u001b[0mem_train_i_x\u001b[0m\u001b[0;34m,\u001b[0m \u001b[0mem_train_i_y\u001b[0m\u001b[0;34m,\u001b[0m \u001b[0mem_test_i_x\u001b[0m\u001b[0;34m)\u001b[0m\u001b[0;34m\u001b[0m\u001b[0;34m\u001b[0m\u001b[0m\n\u001b[0m",
            "\u001b[0;32m<ipython-input-9-f35e579d3e6f>\u001b[0m in \u001b[0;36mtrain_log_reg\u001b[0;34m(train_x, train_y, test_x, epochs, lr)\u001b[0m\n\u001b[1;32m      5\u001b[0m   \u001b[0;31m# SGD\u001b[0m\u001b[0;34m\u001b[0m\u001b[0;34m\u001b[0m\u001b[0m\n\u001b[1;32m      6\u001b[0m   \u001b[0;32mfor\u001b[0m \u001b[0mepoch\u001b[0m \u001b[0;32min\u001b[0m \u001b[0mrange\u001b[0m\u001b[0;34m(\u001b[0m\u001b[0;36m10\u001b[0m\u001b[0;34m)\u001b[0m\u001b[0;34m:\u001b[0m\u001b[0;34m\u001b[0m\u001b[0;34m\u001b[0m\u001b[0m\n\u001b[0;32m----> 7\u001b[0;31m     \u001b[0mpred\u001b[0m \u001b[0;34m=\u001b[0m \u001b[0m_sigmoid\u001b[0m\u001b[0;34m(\u001b[0m\u001b[0mnp\u001b[0m\u001b[0;34m.\u001b[0m\u001b[0mmatmul\u001b[0m\u001b[0;34m(\u001b[0m\u001b[0mw\u001b[0m\u001b[0;34m.\u001b[0m\u001b[0mT\u001b[0m\u001b[0;34m,\u001b[0m\u001b[0mtrain_x\u001b[0m\u001b[0;34m)\u001b[0m\u001b[0;34m)\u001b[0m\u001b[0;34m\u001b[0m\u001b[0;34m\u001b[0m\u001b[0m\n\u001b[0m\u001b[1;32m      8\u001b[0m     \u001b[0;31m# for i in range(len(train_x)): #for each features\u001b[0m\u001b[0;34m\u001b[0m\u001b[0;34m\u001b[0m\u001b[0m\n\u001b[1;32m      9\u001b[0m     \u001b[0;31m#   xi = train_x[:,i]\u001b[0m\u001b[0;34m\u001b[0m\u001b[0;34m\u001b[0m\u001b[0m\n",
            "\u001b[0;31mValueError\u001b[0m: matmul: Input operand 1 has a mismatch in its core dimension 0, with gufunc signature (n?,k),(k,m?)->(n?,m?) (size 1 is different from 4000)"
          ]
        }
      ],
      "source": [
        "def train_log_reg(train_x, train_y, test_x, epochs=1000, lr=0.01, ):\n",
        "  train_x = np.column_stack(np.ones(len(train_x))) #4000 x 3000\n",
        "  #adding a bias term\n",
        "  # random weights\n",
        "  w = np.random.randn(train_x.shape[1]) #4000 x 1\n",
        "  # SGD\n",
        "  for epoch in range(10):\n",
        "    pred = _sigmoid(np.matmul(train_x, w))\n",
        "    gradient = (pred-train_y)*train_x\n",
        "\n",
        "    (pred - yi)*xi\n",
        "    w -= lr*gradient\n",
        "\n",
        "    # for i in range(len(train_x)): #for each features\n",
        "    #   xi = train_x[:,i]\n",
        "    #   yi = train_y[:,i]\n",
        "    #   pred = _sigmoid(np.matmul(w,xi)) #or np.dot\n",
        "      # gradient = (pred - yi)*xi\n",
        "      # w -= lr*gradient\n",
        "\n",
        "def _sigmoid(z):\n",
        "  return 1/(1+np.exp(-z))\n",
        "\n",
        "train_log_reg(em_train_i_x, em_train_i_y, em_test_i_x)"
      ]
    }
  ]
}